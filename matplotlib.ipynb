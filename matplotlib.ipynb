{
 "cells": [
  {
   "cell_type": "markdown",
   "metadata": {},
   "source": [
    "# Data Visualization with Matplotlib and Seaborn"
   ]
  },
  {
   "cell_type": "markdown",
   "metadata": {},
   "source": [
    "Agenda: \n",
    "- Explain what types of graphs best convey specific relationships\n",
    "- Use the subplots syntax to create a graph\n",
    "    - Line\n",
    "    - Bar/hbar\n",
    "    - Scatter\n",
    "    - Hist\n",
    "- Customize different aspects of a graph\n",
    "    - labels (title, axis)\n",
    "    - Linestyle \n",
    "    - Colors\n",
    "- Create multiple graphs in one figure\n"
   ]
  },
  {
   "cell_type": "markdown",
   "metadata": {},
   "source": [
    "Take 2 minutes to peruse some plot examples here:\n",
    "[Python Graphing Gallery](https://python-graph-gallery.com) or [Data Viz Project](https://datavizproject.com/)\n",
    "\n",
    "Then, write down what types of plots may be appropriate to visualize the scenarios below."
   ]
  },
  {
   "cell_type": "markdown",
   "metadata": {},
   "source": [
    "### Scenario 1: You would like to display counts of coffee shops in each Chicago zipcode?"
   ]
  },
  {
   "cell_type": "code",
   "execution_count": null,
   "metadata": {},
   "outputs": [],
   "source": [
    " # what are some appropriate plots?"
   ]
  },
  {
   "cell_type": "markdown",
   "metadata": {},
   "source": [
    "### Scenario 2: You would like to visualize the correllation between miles per gallon of a car and horsepower"
   ]
  },
  {
   "cell_type": "code",
   "execution_count": null,
   "metadata": {},
   "outputs": [],
   "source": [
    "# what are some appropriate plots?"
   ]
  },
  {
   "cell_type": "markdown",
   "metadata": {},
   "source": [
    "### Scenario 3: You would like to visualize the distribution of blood pressure readings of American males between 25 and 35"
   ]
  },
  {
   "cell_type": "code",
   "execution_count": null,
   "metadata": {},
   "outputs": [],
   "source": [
    "# what are some appropriate plots?"
   ]
  },
  {
   "cell_type": "markdown",
   "metadata": {},
   "source": [
    "## Why Visualize Data?\n",
    "or why can’t we just hand someone a table of data?"
   ]
  },
  {
   "cell_type": "markdown",
   "metadata": {},
   "source": [
    "Let's load up the iris data set.  This is a famous built-in dataset which is used to learn about categorization. "
   ]
  },
  {
   "cell_type": "code",
   "execution_count": null,
   "metadata": {},
   "outputs": [],
   "source": [
    "# One of several libraries you will get real used to importing.  M\n",
    "# https://matplotlib.org/3.1.1/index.html\n",
    "import matplotlib.pyplot as plt\n",
    "\n",
    "# Two well worn data sets\n",
    "from sklearn.datasets import load_iris, load_wine\n",
    "import pandas as pd\n",
    "\n",
    "data = load_iris()\n",
    "df_iris = pd.DataFrame(data['data'], columns=data['feature_names'])\n",
    "df_iris['target'] = data['target']"
   ]
  },
  {
   "cell_type": "markdown",
   "metadata": {},
   "source": [
    "Here is an image of one of the virginica iris, which is unique in its relative petal and sepal length."
   ]
  },
  {
   "cell_type": "markdown",
   "metadata": {},
   "source": [
    "![virginica_iris](iris_virginica.jpg)"
   ]
  },
  {
   "cell_type": "markdown",
   "metadata": {},
   "source": [
    "### Dataframe vs Graph: Which do you prefer?"
   ]
  },
  {
   "cell_type": "code",
   "execution_count": null,
   "metadata": {},
   "outputs": [],
   "source": [
    "# I like to use sample rather than head because it gives me a better idea of the distribution of observations\n",
    "df_iris.sample(5)"
   ]
  },
  {
   "cell_type": "code",
   "execution_count": null,
   "metadata": {},
   "outputs": [],
   "source": [
    "fig, ax = plt.subplots(figsize=(8, 5))\n",
    "\n",
    "# Iterate through each type of flower and plot them using different colors\n",
    "for flower in df_iris['target'].unique():\n",
    "    subset_df = df_iris[df_iris['target'] == flower]\n",
    "    x = subset_df['sepal length (cm)']\n",
    "    y = subset_df['petal length (cm)']\n",
    "    \n",
    "    ax.scatter(x, y, label=data['target_names'][flower])\n",
    "\n",
    "# Label your axes!\n",
    "ax.set_ylabel('petal length (cm)')\n",
    "ax.set_xlabel('sepal length (cm)')\n",
    "ax.set_title('Petal length vs Sepal Length for Three Species of Flowers')\n",
    "ax.legend();"
   ]
  },
  {
   "cell_type": "markdown",
   "metadata": {},
   "source": [
    "What information in this graph jumps out to you?"
   ]
  },
  {
   "cell_type": "code",
   "execution_count": null,
   "metadata": {},
   "outputs": [],
   "source": [
    "# your thoughts here"
   ]
  },
  {
   "cell_type": "code",
   "execution_count": null,
   "metadata": {},
   "outputs": [],
   "source": [
    "#__SOLUTION__\n",
    "'''\n",
    "some ideas:\n",
    "   - The data is separated into three categories.\n",
    "   - It looks like there are clear lines that there are several clear lines that can be drawn to separate the groups along petal length.\n",
    "   - Separation of Versicolor and Virginica is more difficult than that between setosa and and the other two.\n",
    "   - There is a slight upward correlation between Petal lengthe and sepal length in the versicolor and virginica groups.\n",
    "   - There appears to be a fairly balanced number of samples across the groups.\n",
    "   - There appears to be one potential outlier.\n",
    "'''"
   ]
  },
  {
   "cell_type": "markdown",
   "metadata": {},
   "source": [
    "In your presentation decks, you will no doubt be tempted to print out the head of a data frame, take a screen shot, and plop it in the middle of a slide.  We all have that instinct; the dataframe object will become one your most cherished objects. If you put them in your deck, you will no doubt hear one of us gently request its replacement with some other figure."
   ]
  },
  {
   "cell_type": "markdown",
   "metadata": {},
   "source": [
    "## The Effectiveness of Visualizations\n",
    "\n",
    "- People are highly visual and can synthesize visual information such more quickly than rows and columns of numbers \n",
    "- Precognitive understanding of the data\n",
    "- Visual representations can be much more viscerally persuasive "
   ]
  },
  {
   "cell_type": "markdown",
   "metadata": {},
   "source": [
    "## What Makes an Effective Visualization?\n",
    "\n",
    "- Each graph should have a clear point it is trying to make. Understanding the insight you are trying to convey will guide the decision making process for what kind of graph will be most effective\n",
    "\n",
    "- Know your audience! Come up with a use case and audience to pitch your visualizations\n",
    "\n",
    "- Choosing the correct graph for the relationship you are trying to communicate\n",
    "\n",
    "- Label your axes and graph! It should not be difficult for someone to understand what your graph is trying to represent\n",
    "\n",
    "- People have unconscious responses to visuals which will effect the way they interpret information. Good visualization makes use of these natural shortcuts in cognition to convey information more efficiently\n",
    "        - Red and Down tends to be negative while Green and Up is positive\n",
    "        - Lighter hues are seen as lower values and darker is higher values\n",
    "        - Axis start at zero\n",
    "        \n",
    "__Note:__ All of these 'rules' can be broken but know that you will be working against most people's first instinct"
   ]
  },
  {
   "cell_type": "markdown",
   "metadata": {},
   "source": [
    "## How to Lie with Graphs\n",
    "\n",
    "- Graphs can be misleading\n",
    "- Consciously or unconsciously people will make decisions to lead people towards their conclusions of the data\n",
    "\n",
    "- Examples of dark patterns\n",
    "        - Changing the axis scale\n",
    "        - Using two different y axis scales to compare trends\n",
    "        - Showing cumulative data which will always be increasing to hide a downturn in a trend\n",
    "        - Pie charts (comparing degrees is not something people are good at) just use a bar chart\n",
    "        - Inconsistent units\n",
    "        - Not showing all of the data for motivated reasons\n",
    "        - Percentages not adding up to 100"
   ]
  },
  {
   "cell_type": "markdown",
   "metadata": {},
   "source": [
    "<img src=\"data/pie-chart-misleading.png\">\n",
    "\n",
    "image: http://flowingdata.com/2009/11/26/fox-news-makes-the-best-pie-chart-ever/\n",
    "\n",
    "_____\n",
    "\n",
    "\n",
    "\n",
    "<img src=\"data/usa-today-2.png\">"
   ]
  },
  {
   "cell_type": "markdown",
   "metadata": {},
   "source": [
    "# Common Charts and Their Uses"
   ]
  },
  {
   "cell_type": "markdown",
   "metadata": {},
   "source": [
    "## Bar charts\n",
    "\n",
    "Bar charts are everywhere: powerpoints, billboards and the evening news. They are used to show the relationship of a numerical and a categorical variable.\n",
    "\n",
    "For example, a bar chart can show the growth of a single categorical variable across time.\n",
    "\n",
    "There is a lot of code below.  For now we will focus on the output.  Two barcharts of total sales of shampoo across three years and across months."
   ]
  },
  {
   "cell_type": "code",
   "execution_count": null,
   "metadata": {},
   "outputs": [],
   "source": [
    "import pandas as pd\n",
    "import matplotlib.pyplot as plt\n",
    "\n",
    "shampoo = pd.read_csv('data/sales-of-shampoo-over-a-three-ye.csv')\n",
    "\n",
    "# Year and months are in an odd format in this shampoo dataset.  \n",
    "# Use custom functions to extract data\n",
    "\n",
    "def get_year(date):\n",
    "    return date[0]\n",
    "\n",
    "shampoo['year'] = shampoo['Month'].apply(get_year)\n",
    "total_sales_per_year = shampoo.groupby('year').sum()[:-1]\n",
    "\n",
    "def get_month(date):\n",
    "    return date[2:]\n",
    "\n",
    "shampoo['month'] = shampoo['Month'].apply(get_month)\n",
    "total_sales_per_month = shampoo.groupby('month').sum()[:-1].sort_values(by='month')\n",
    "months = ['January', 'February', 'March', 'April', \n",
    "         'May', 'June', 'July', 'August', 'September', \n",
    "         'October', 'November', 'December']\n",
    "\n",
    "\n",
    "fig, (ax1,ax2) = plt.subplots(1,2)\n",
    "ax1.bar(x = list(total_sales_per_year.index), height=total_sales_per_year.values.flatten())\n",
    "ax1.set_title('Shampoo Sales Over\\n Three Year Period')\n",
    "ax1.set_xlabel('Year')\n",
    "ax1.set_ylabel('Total Sales')\n",
    "\n",
    "# If we have long lables on the xaxis, we can get around it with horizontal bar charts.\n",
    "\n",
    "ax2.barh(y = list(total_sales_per_month.index), width=total_sales_per_month.values.flatten())\n",
    "ax2.set_yticks(range(0,12))\n",
    "ax2.set_yticklabels(months)\n",
    "ax2.set_title('Total shampoo sales per month')\n",
    "ax2.set_xlabel('Total Sales')\n",
    "ax2.set_ylabel('Month')\n",
    "plt.tight_layout()"
   ]
  },
  {
   "cell_type": "markdown",
   "metadata": {},
   "source": [
    "# Scatter Plots\n",
    "\n",
    "Scatter plots are also very common.  They allow one to visualize the relationship of two variables. \n",
    "\n",
    "In the plots below, we see different correlations between variables:\n",
    "\n"
   ]
  },
  {
   "cell_type": "code",
   "execution_count": null,
   "metadata": {},
   "outputs": [],
   "source": [
    "from sklearn.datasets import load_boston\n",
    "boston = load_boston()\n",
    "boston_df = pd.DataFrame(boston['data'])\n",
    "boston_df.columns = boston['feature_names']\n",
    "\n",
    "fig,(ax1,ax2,ax3) = plt.subplots(1,3, figsize=(10,5))\n",
    "\n",
    "ax1.scatter(boston_df.RM, boston_df.LSTAT, c='red')\n",
    "ax1.set_xlabel('Rooms')\n",
    "ax1.set_ylabel('LSTAT')\n",
    "ax1.set_title('Negative Correlation')\n",
    "\n",
    "ax1.set_xlabel('Rooms')\n",
    "ax1.set_ylabel('LSTAT')\n",
    "ax1.set_title('Negative Correlation')\n",
    "\n",
    "ax2.scatter(boston_df.INDUS, boston_df.NOX, c='green')\n",
    "\n",
    "ax2.set_xlabel('INDUS')\n",
    "ax2.set_ylabel('NOX')\n",
    "ax2.set_title('Positive Correlation')\n",
    "\n",
    "ax3.scatter(boston_df.RM, boston_df.DIS)\n",
    "\n",
    "ax3.set_xlabel('Rooms')\n",
    "ax3.set_ylabel('Distance to Major Employment Centers')\n",
    "ax3.set_title('Low Correlation')\n",
    "\n",
    "\n",
    "plt.tight_layout()"
   ]
  },
  {
   "cell_type": "markdown",
   "metadata": {},
   "source": [
    "## Line Plot\n",
    "\n",
    "Tracks the change of a single variable over time.  They are generally better than bar graphs over shorter periods of time.\n"
   ]
  },
  {
   "cell_type": "code",
   "execution_count": null,
   "metadata": {},
   "outputs": [],
   "source": [
    "fig, ax = plt.subplots()\n",
    "\n",
    "ax.plot(shampoo.index, shampoo.iloc[:,1], color='g')\n",
    "ax.set_xticks(range(0,36), minor=True)\n",
    "ax.set_xticks(range(12,36, 12))\n",
    "ax.set_xticklabels(['year_2', 'year_3'])\n",
    "ax.set_title('Shampoo Sales Across 3 Years')"
   ]
  },
  {
   "cell_type": "markdown",
   "metadata": {},
   "source": [
    "## Histograms"
   ]
  },
  {
   "cell_type": "markdown",
   "metadata": {},
   "source": [
    "We will get get further into histograms in mod 2, but it is good to get familiar with them sooner rather than later. \n",
    "\n",
    "Histograms are often confused with bar charts, since they look somewhat similar.  The big difference, however, is that histograms visualize the distribution of a continuous variable, rather than the discrete variable shown by barcharts. You can remember this because the bins of histograms don't have spaces between them.\n",
    "\n",
    "Here is the distribution of the target variable, sales price, from the famous Boston Housing dataset."
   ]
  },
  {
   "cell_type": "code",
   "execution_count": null,
   "metadata": {},
   "outputs": [],
   "source": [
    "from sklearn.datasets import load_boston\n",
    "boston = load_boston()\n",
    "sales_price = boston['target']\n",
    "\n",
    "fig, ax = plt.subplots()\n",
    "ax.hist(sales_price)\n",
    "ax.set_xlabel('House Price ($1000s)');\n",
    "ax.set_ylabel('Count')\n",
    "ax.set_title('Distribution of Boston House Prices');"
   ]
  },
  {
   "cell_type": "markdown",
   "metadata": {},
   "source": [
    "## Box Plots\n",
    "\n",
    "Box plots (or box-and-whisker plots), like histograms, show the distribution of a continous variable.  They have a median line, where half the data falls above, half below.  The box represents the interquartile range, and the whiskers encompass (most often) 95% of the data. We can detect skew from a boxplot, and it is also a quick way to see detect outliers.\n",
    "\n",
    "Again, we will get further into boxplots in mod 2."
   ]
  },
  {
   "cell_type": "code",
   "execution_count": null,
   "metadata": {},
   "outputs": [],
   "source": [
    "fig, ax = plt.subplots()\n",
    "ax.boxplot(sales_price)\n",
    "ax.set_xlabel('House Price ($1000s)');\n",
    "ax.set_ylabel('Count')\n",
    "ax.set_title('Distribution of Boston House Prices');"
   ]
  },
  {
   "cell_type": "markdown",
   "metadata": {},
   "source": [
    "## Pie Charts\n",
    "Love em or hate em, you'll no doubt see em.\n",
    "One spend much time on them, but know you can use matplotlib to plot them."
   ]
  },
  {
   "cell_type": "code",
   "execution_count": null,
   "metadata": {},
   "outputs": [],
   "source": [
    "fig, ax = plt.subplots()\n",
    "ax.pie(df_iris['target'].value_counts(), labels = list(data['target_names']), autopct='%1.0f%%');\n",
    "\n",
    "ax.set_title('Target Distribution of Iris Dataset')\n",
    "plt.tight_layout()\n"
   ]
  },
  {
   "cell_type": "markdown",
   "metadata": {},
   "source": [
    "## How to Matplotlib"
   ]
  },
  {
   "cell_type": "markdown",
   "metadata": {},
   "source": [
    "<img src=\"data/matplotlib_anatomy.png\">"
   ]
  },
  {
   "cell_type": "markdown",
   "metadata": {},
   "source": [
    "Explanation of non-obvious terms\n",
    "\n",
    "__Figure__ - This is the sheet of paper all of your graphing sits on. \n",
    "\n",
    "__Axis__ - An axis is an individual plot. You can have multiple axes on one figure\n",
    "\n",
    "__Major/Minor Ticks__ - The large and small dashes on the x and y axis\n",
    "\n",
    "__Markers__ - In a scatter plot each of the points is refered to as a marker\n",
    "\n",
    "__Spines__ - The lines that bound each axis"
   ]
  },
  {
   "cell_type": "markdown",
   "metadata": {},
   "source": [
    "## Plotting Syntax\n",
    "\n",
    "- There are many different ways to create plots but we will strongly suggest using the subplots method\n",
    "    - This is useful for extensibility \n",
    "    - Gives you access to the figure and individual axis in a plot\n",
    "    - More fine grained control of customizing your plot\n",
    "    - Easily create additional axis on your figure\n",
    "    - This syntax is a good level of abstraction\n",
    "        - You can go deeper into the api but this should give you immediate access to most tools you will need for whatever plot you are making\n",
    "    - Flatiron Specifc\n",
    "        - Plotting code will be more easily readable for other students and instructors\n",
    "        - You don’t need to remember many different ways to organize your code"
   ]
  },
  {
   "cell_type": "markdown",
   "metadata": {},
   "source": [
    "Let's recreate the Boston Housing scatter plot from above, focusing on what the code is doing.\n",
    "\n",
    "Here are links to the [matplotlib documentation](https://matplotlib.org/index.html) as well as the [Axes object documentation](https://matplotlib.org/api/axes_api.html):"
   ]
  },
  {
   "cell_type": "code",
   "execution_count": null,
   "metadata": {},
   "outputs": [],
   "source": [
    "# use boston data\n",
    "boston_df = pd.DataFrame(boston['data'])\n",
    "boston_df.columns = boston['feature_names']\n",
    "\n",
    "# Create figure and axis objects\n",
    "# We recomend using this syntax.  You could use plt.scatter(), but is less flexible.\n",
    "fig, ax = plt.subplots()\n",
    "\n",
    "# Use axes object to visualize a scatter plot\n",
    "\n",
    "ax.scatter(boston_df.RM, boston_df.LSTAT, c='red');\n"
   ]
  },
  {
   "cell_type": "markdown",
   "metadata": {},
   "source": [
    "That is the meat of the plot, but we need to add some labels.\n",
    "We do this via the axes object methods set_xlabel, set_ylabel.\n",
    "\n",
    "Use the above mentioned methods to set the xlabel and ylabel to 'Rooms' and 'LSTAT' respectively.\n",
    "Set the title using set_title to whatever you deem appropriate."
   ]
  },
  {
   "cell_type": "code",
   "execution_count": null,
   "metadata": {},
   "outputs": [],
   "source": [
    "# Create figure and axis objects\n",
    "boston_df = pd.DataFrame(boston['data'])\n",
    "boston_df.columns = boston['feature_names']\n",
    "\n",
    "\n",
    "fig, ax = plt.subplots()\n",
    "# Your code here"
   ]
  },
  {
   "cell_type": "code",
   "execution_count": null,
   "metadata": {},
   "outputs": [],
   "source": [
    "#__SOLUTION__\n",
    "\n",
    "# Create figure and axis objects\n",
    "boston_df = pd.DataFrame(boston['data'])\n",
    "boston_df.columns = boston['feature_names']\n",
    "\n",
    "\n",
    "fig, ax = plt.subplots()\n",
    "\n",
    "ax.scatter(boston_df.RM, boston_df.LSTAT, c='red')\n",
    "ax.set_xlabel('Rooms')\n",
    "ax.set_ylabel('LSTAT')\n",
    "ax.set_title('Negative Correlation')"
   ]
  },
  {
   "cell_type": "markdown",
   "metadata": {},
   "source": [
    "Each type of graph has some fun levers to tweek.  Let's try changing the opacity, marker size, and color of the scatter."
   ]
  },
  {
   "cell_type": "code",
   "execution_count": null,
   "metadata": {},
   "outputs": [],
   "source": [
    "boston_df = pd.DataFrame(boston['data'])\n",
    "boston_df.columns = boston['feature_names']\n",
    "\n",
    "fig, ax = plt.subplots()\n",
    "\n",
    "ax.scatter(boston_df.RM, boston_df.LSTAT, c='pink', s=50, alpha=.5)\n",
    "ax.set_xlabel('Rooms')\n",
    "ax.set_ylabel('LSTAT')\n",
    "ax.set_title('Messing with parameters')"
   ]
  },
  {
   "cell_type": "markdown",
   "metadata": {},
   "source": [
    "Now lets use the suplots syntax to create two plots side by side.  The first plot will be the one you create above, the second, which should appear to the right, will be a histogram of the target value, sales price.  Play around with the bins parameter to see how the plot is affected."
   ]
  },
  {
   "cell_type": "code",
   "execution_count": null,
   "metadata": {},
   "outputs": [],
   "source": [
    "boston_df = pd.DataFrame(boston['data'])\n",
    "boston_df.columns = boston['feature_names']\n",
    "sales_price = boston['target']\n",
    "fig, (ax1, ax2) = plt.subplots(1,2)\n",
    "\n",
    "# Your code here\n"
   ]
  },
  {
   "cell_type": "code",
   "execution_count": null,
   "metadata": {},
   "outputs": [],
   "source": [
    "#__SOLUTION__\n",
    "\n",
    "boston_df = pd.DataFrame(boston['data'])\n",
    "boston_df.columns = boston['feature_names']\n",
    "sales_price = boston['target']\n",
    "\n",
    "\n",
    "fig, (ax1, ax2) = plt.subplots(1,2)\n",
    "\n",
    "ax1.scatter(boston_df.RM, boston_df.LSTAT, c='red')\n",
    "ax1.set_xlabel('Rooms')\n",
    "ax1.set_ylabel('LSTAT')\n",
    "ax1.set_title('Negative Correlation')\n",
    "\n",
    "ax2.hist(sales_price, bins=50)\n",
    "ax2.set_title('Distribution of Boston\\n Sales Prices')\n",
    "plt.tight_layout()"
   ]
  },
  {
   "cell_type": "markdown",
   "metadata": {},
   "source": [
    "## Let's work with an imagined bar chart of outcomes for people who contracted a life threatening disease\n",
    "\n",
    "Through the barplot, we will learn to manipulate the figure size, tick labels, and color of specific parts of the plot."
   ]
  },
  {
   "cell_type": "code",
   "execution_count": null,
   "metadata": {},
   "outputs": [],
   "source": [
    "# Let's imagine these are counts of our target variable categories in a classification problem\n",
    "\n",
    "outcomes = [100,500,200,20]\n",
    "outcome_labels = ['recovered', 'partially_recovered', 'deceased', 'other']\n"
   ]
  },
  {
   "cell_type": "code",
   "execution_count": null,
   "metadata": {},
   "outputs": [],
   "source": [
    "\n",
    "fig, ax = plt.subplots()\n",
    "\n",
    "# we set our labels to be outcome labels\n",
    "ax.bar(outcome_labels, outcomes)"
   ]
  },
  {
   "cell_type": "code",
   "execution_count": null,
   "metadata": {},
   "outputs": [],
   "source": [
    "# Let's make the figure a little bit taller\n",
    "\n",
    "fig, ax = plt.subplots()\n",
    "fig.set_figheight(5)\n",
    "fig.set_figwidth(5)\n",
    "ax.bar(outcome_labels, outcomes)"
   ]
  },
  {
   "cell_type": "markdown",
   "metadata": {},
   "source": [
    "Uh, oh, that messed up our x-ticks\n",
    "We can use the tick_params method to rotate the labels.\n",
    "[tick_params](https://matplotlib.org/api/_as_gen/matplotlib.axes.Axes.tick_params.html#matplotlib.axes.Axes.tick_params)"
   ]
  },
  {
   "cell_type": "code",
   "execution_count": null,
   "metadata": {},
   "outputs": [],
   "source": [
    "# Your code here"
   ]
  },
  {
   "cell_type": "code",
   "execution_count": null,
   "metadata": {},
   "outputs": [],
   "source": [
    "#__SOLUTION__\n",
    "fig, ax = plt.subplots()\n",
    "fig.set_figheight(5)\n",
    "fig.set_figwidth(5)\n",
    "ax.bar(outcome_labels, outcomes)\n",
    "ax.tick_params(axis='x', labelrotation=45)"
   ]
  },
  {
   "cell_type": "code",
   "execution_count": null,
   "metadata": {},
   "outputs": [],
   "source": [
    "# Let's say we want to put emphasis on the people who recovered by changing the color of a bar.\n",
    "fig, ax = plt.subplots()\n",
    "fig.set_figheight(5)\n",
    "fig.set_figwidth(5)\n",
    "bars = ax.bar(outcome_labels, outcomes)\n",
    "ax.tick_params(axis='x', rotation=45)\n",
    "bars[0].set_color('green')"
   ]
  },
  {
   "cell_type": "markdown",
   "metadata": {},
   "source": [
    "## Layering\n",
    "\n",
    "![cake](https://media.giphy.com/media/XMgCFjsCSARxK/giphy.gif)"
   ]
  },
  {
   "cell_type": "code",
   "execution_count": null,
   "metadata": {},
   "outputs": [],
   "source": [
    "If we want to add multiple plots on one axis, we can simply call the plotting functions one after the other. "
   ]
  },
  {
   "cell_type": "markdown",
   "metadata": {},
   "source": [
    "### Quick note: style sheets are cool\n",
    "\n",
    "Find another style from the Docs and set the style. Once you've set the style try rerunning older graphs:\n",
    "\n",
    "[Style Sheets](https://matplotlib.org/3.1.1/gallery/style_sheets/style_sheets_reference.html)"
   ]
  },
  {
   "cell_type": "code",
   "execution_count": null,
   "metadata": {},
   "outputs": [],
   "source": [
    "style = 'fivethirtyeight'\n",
    "plt.style.use(style)"
   ]
  },
  {
   "cell_type": "markdown",
   "metadata": {},
   "source": [
    "## Saving your figures"
   ]
  },
  {
   "cell_type": "markdown",
   "metadata": {},
   "source": [
    "Let's split the shampoo sales into years, and plot three line plots, one on top of the other"
   ]
  },
  {
   "cell_type": "code",
   "execution_count": null,
   "metadata": {},
   "outputs": [],
   "source": [
    "fig, ax = plt.subplots()\n",
    "for group in shampoo.groupby('year').groups:\n",
    "    x = shampoo.groupby('year').get_group(group)\n",
    "    ax.plot(x.month, x.iloc[:,1], )\n",
    "    \n",
    "ax.legend(['year_1', 'year_2', 'year_3'])\n",
    "ax.set_xlabel('Month')\n",
    "ax.set_ylabel('Shampoo Sales')"
   ]
  }
 ],
 "metadata": {
  "kernelspec": {
   "display_name": "Python 3",
   "language": "python",
   "name": "python3"
  },
  "language_info": {
   "codemirror_mode": {
    "name": "ipython",
    "version": 3
   },
   "file_extension": ".py",
   "mimetype": "text/x-python",
   "name": "python",
   "nbconvert_exporter": "python",
   "pygments_lexer": "ipython3",
   "version": "3.7.3"
  }
 },
 "nbformat": 4,
 "nbformat_minor": 4
}
