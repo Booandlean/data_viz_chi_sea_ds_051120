{
 "cells": [
  {
   "cell_type": "markdown",
   "metadata": {},
   "source": [
    "# Data Visualization with Matplotlib and Seaborn"
   ]
  },
  {
   "cell_type": "markdown",
   "metadata": {},
   "source": [
    "Agenda: \n",
    "- Explain what types of graphs best convey specific relationships\n",
    "- Use the subplots syntax to create a graph\n",
    "    - Line\n",
    "    - Bar/hbar\n",
    "    - Scatter\n",
    "    - Hist\n",
    "- Customize different aspects of a graph\n",
    "    - labels (title, axis)\n",
    "    - Linestyle \n",
    "    - Colors\n",
    "- Create multiple graphs in one figure\n"
   ]
  },
  {
   "cell_type": "markdown",
   "metadata": {},
   "source": [
    "# Activation Exercise"
   ]
  },
  {
   "cell_type": "markdown",
   "metadata": {},
   "source": [
    "Take 5 minutes in groups of 3 to think about what types of plots would be best to visualize the scenarios below.  \n",
    "Peruse some plot examples here for ideas:\n",
    "[Python Graphing Gallery](https://python-graph-gallery.com) or [Data Viz Project](https://datavizproject.com/)\n"
   ]
  },
  {
   "cell_type": "markdown",
   "metadata": {},
   "source": [
    "### Scenario 1: You would like to display counts of coffee shops in each Chicago zipcode?"
   ]
  },
  {
   "cell_type": "code",
   "execution_count": 1,
   "metadata": {},
   "outputs": [],
   "source": [
    " # what are some appropriate plots?"
   ]
  },
  {
   "cell_type": "markdown",
   "metadata": {},
   "source": [
    "### Scenario 2: You would like to visualize the correllation between miles per gallon of a car and horsepower"
   ]
  },
  {
   "cell_type": "code",
   "execution_count": 2,
   "metadata": {},
   "outputs": [],
   "source": [
    "# what are some appropriate plots?"
   ]
  },
  {
   "cell_type": "markdown",
   "metadata": {},
   "source": [
    "### Scenario 3: You would like to visualize the distribution of blood pressure readings of American males between 25 and 35"
   ]
  },
  {
   "cell_type": "code",
   "execution_count": 3,
   "metadata": {},
   "outputs": [],
   "source": [
    "# what are some appropriate plots?"
   ]
  },
  {
   "cell_type": "markdown",
   "metadata": {},
   "source": [
    "## Why Visualize Data?\n",
    "or why can’t we just hand someone a table of data?"
   ]
  },
  {
   "cell_type": "markdown",
   "metadata": {},
   "source": [
    "Let's load up the iris data set.  This is a famous built-in dataset which is used to learn about categorization. "
   ]
  },
  {
   "cell_type": "code",
   "execution_count": 4,
   "metadata": {},
   "outputs": [],
   "source": [
    "# One of several libraries you will get real used to importing. \n",
    "# https://matplotlib.org/3.1.1/index.html\n",
    "import matplotlib.pyplot as plt\n",
    "\n",
    "# Two well worn data sets\n",
    "from sklearn.datasets import load_iris, load_wine\n",
    "import pandas as pd\n",
    "\n",
    "data = load_iris()\n",
    "df_iris = pd.DataFrame(data['data'], columns=data['feature_names'])\n",
    "df_iris['target'] = data['target']"
   ]
  },
  {
   "cell_type": "markdown",
   "metadata": {},
   "source": [
    "Here is an image of one of the virginica iris, which is unique in its relative petal and sepal length."
   ]
  },
  {
   "cell_type": "markdown",
   "metadata": {},
   "source": [
    "![virginica_iris](iris_virginica.jpg)"
   ]
  },
  {
   "cell_type": "markdown",
   "metadata": {},
   "source": [
    "### Dataframe vs Graph: Which do you prefer?"
   ]
  },
  {
   "cell_type": "code",
   "execution_count": 5,
   "metadata": {},
   "outputs": [
    {
     "data": {
      "text/html": [
       "<div>\n",
       "<style scoped>\n",
       "    .dataframe tbody tr th:only-of-type {\n",
       "        vertical-align: middle;\n",
       "    }\n",
       "\n",
       "    .dataframe tbody tr th {\n",
       "        vertical-align: top;\n",
       "    }\n",
       "\n",
       "    .dataframe thead th {\n",
       "        text-align: right;\n",
       "    }\n",
       "</style>\n",
       "<table border=\"1\" class=\"dataframe\">\n",
       "  <thead>\n",
       "    <tr style=\"text-align: right;\">\n",
       "      <th></th>\n",
       "      <th>sepal length (cm)</th>\n",
       "      <th>sepal width (cm)</th>\n",
       "      <th>petal length (cm)</th>\n",
       "      <th>petal width (cm)</th>\n",
       "      <th>target</th>\n",
       "    </tr>\n",
       "  </thead>\n",
       "  <tbody>\n",
       "    <tr>\n",
       "      <th>110</th>\n",
       "      <td>6.5</td>\n",
       "      <td>3.2</td>\n",
       "      <td>5.1</td>\n",
       "      <td>2.0</td>\n",
       "      <td>2</td>\n",
       "    </tr>\n",
       "    <tr>\n",
       "      <th>33</th>\n",
       "      <td>5.5</td>\n",
       "      <td>4.2</td>\n",
       "      <td>1.4</td>\n",
       "      <td>0.2</td>\n",
       "      <td>0</td>\n",
       "    </tr>\n",
       "    <tr>\n",
       "      <th>26</th>\n",
       "      <td>5.0</td>\n",
       "      <td>3.4</td>\n",
       "      <td>1.6</td>\n",
       "      <td>0.4</td>\n",
       "      <td>0</td>\n",
       "    </tr>\n",
       "    <tr>\n",
       "      <th>137</th>\n",
       "      <td>6.4</td>\n",
       "      <td>3.1</td>\n",
       "      <td>5.5</td>\n",
       "      <td>1.8</td>\n",
       "      <td>2</td>\n",
       "    </tr>\n",
       "    <tr>\n",
       "      <th>34</th>\n",
       "      <td>4.9</td>\n",
       "      <td>3.1</td>\n",
       "      <td>1.5</td>\n",
       "      <td>0.2</td>\n",
       "      <td>0</td>\n",
       "    </tr>\n",
       "  </tbody>\n",
       "</table>\n",
       "</div>"
      ],
      "text/plain": [
       "     sepal length (cm)  sepal width (cm)  petal length (cm)  petal width (cm)  \\\n",
       "110                6.5               3.2                5.1               2.0   \n",
       "33                 5.5               4.2                1.4               0.2   \n",
       "26                 5.0               3.4                1.6               0.4   \n",
       "137                6.4               3.1                5.5               1.8   \n",
       "34                 4.9               3.1                1.5               0.2   \n",
       "\n",
       "     target  \n",
       "110       2  \n",
       "33        0  \n",
       "26        0  \n",
       "137       2  \n",
       "34        0  "
      ]
     },
     "execution_count": 5,
     "metadata": {},
     "output_type": "execute_result"
    }
   ],
   "source": [
    "# I like to use sample rather than head because it gives me a better idea of the distribution of observations\n",
    "df_iris.sample(5)"
   ]
  },
  {
   "cell_type": "code",
   "execution_count": 6,
   "metadata": {},
   "outputs": [
    {
     "data": {
      "image/png": "[encoded data removed]",
      "text/plain": [
       "<Figure size 576x360 with 1 Axes>"
      ]
     },
     "metadata": {
      "needs_background": "light"
     },
     "output_type": "display_data"
    }
   ],
   "source": [
    "fig, ax = plt.subplots(figsize=(8, 5))\n",
    "\n",
    "# Iterate through each type of flower and plot them using different colors\n",
    "for flower in df_iris['target'].unique():\n",
    "    subset_df = df_iris[df_iris['target'] == flower]\n",
    "    x = subset_df['sepal length (cm)']\n",
    "    y = subset_df['petal length (cm)']\n",
    "    \n",
    "    ax.scatter(x, y, label=data['target_names'][flower])\n",
    "\n",
    "# Label your axes!\n",
    "ax.set_ylabel('petal length (cm)')\n",
    "ax.set_xlabel('sepal length (cm)')\n",
    "ax.set_title('Petal length vs Sepal Length for Three Species of Flowers')\n",
    "ax.legend();"
   ]
  },
  {
   "cell_type": "markdown",
   "metadata": {},
   "source": [
    "What information in this graph jumps out to you?"
   ]
  },
  {
   "cell_type": "code",
   "execution_count": 7,
   "metadata": {},
   "outputs": [],
   "source": [
    "# your thoughts here"
   ]
  },
  {
   "cell_type": "markdown",
   "metadata": {},
   "source": [
    "In your presentation decks, you will no doubt be tempted to print out the head of a data frame, take a screen shot, and plop it in the middle of a slide.  We all have that instinct; the dataframe object will become one your most cherished objects. If you put them in your deck, you will no doubt hear one of us gently request its replacement with some other figure."
   ]
  },
  {
   "cell_type": "markdown",
   "metadata": {},
   "source": [
    "## The Effectiveness of Visualizations\n",
    "\n",
    "- People are highly visual and can synthesize visual information such more quickly than rows and columns of numbers \n",
    "- Precognitive understanding of the data\n",
    "- Visual representations can be much more viscerally persuasive "
   ]
  },
  {
   "cell_type": "markdown",
   "metadata": {},
   "source": [
    "## What Makes an Effective Visualization?\n",
    "\n",
    "- Each graph should have a clear point it is trying to make. Understanding the insight you are trying to convey will guide the decision making process for what kind of graph will be most effective\n",
    "\n",
    "- Know your audience! Come up with a use case and audience to pitch your visualizations\n",
    "\n",
    "- Choosing the correct graph for the relationship you are trying to communicate\n",
    "\n",
    "- Label your axes and graph! It should not be difficult for someone to understand what your graph is trying to represent\n",
    "\n",
    "- People have unconscious responses to visuals which will effect the way they interpret information. Good visualization makes use of these natural shortcuts in cognition to convey information more efficiently\n",
    "        - Red and Down tends to be negative while Green and Up is positive\n",
    "        - Lighter hues are seen as lower values and darker is higher values\n",
    "        - Axis start at zero\n",
    "        \n",
    "__Note:__ All of these 'rules' can be broken but know that you will be working against most people's first instinct"
   ]
  },
  {
   "cell_type": "markdown",
   "metadata": {},
   "source": [
    "## How to Lie with Graphs\n",
    "\n",
    "- Graphs can be misleading\n",
    "- Consciously or unconsciously people will make decisions to lead people towards their conclusions of the data\n",
    "\n",
    "- Examples of dark patterns\n",
    "        - Changing the axis scale\n",
    "        - Using two different y axis scales to compare trends\n",
    "        - Showing cumulative data which will always be increasing to hide a downturn in a trend\n",
    "        - Pie charts (comparing degrees is not something people are good at) just use a bar chart\n",
    "        - Inconsistent units\n",
    "        - Not showing all of the data for motivated reasons\n",
    "        - Percentages not adding up to 100"
   ]
  },
  {
   "cell_type": "markdown",
   "metadata": {},
   "source": [
    "<img src=\"data/pie-chart-misleading.png\">\n",
    "\n",
    "image: http://flowingdata.com/2009/11/26/fox-news-makes-the-best-pie-chart-ever/\n",
    "\n",
    "_____\n",
    "\n",
    "\n",
    "\n",
    "<img src=\"data/usa-today-2.png\">"
   ]
  },
  {
   "cell_type": "markdown",
   "metadata": {},
   "source": [
    "# Matplotlib"
   ]
  },
  {
   "cell_type": "markdown",
   "metadata": {},
   "source": [
    "<img src=\"data/matplotlib_anatomy.png\">"
   ]
  },
  {
   "cell_type": "markdown",
   "metadata": {},
   "source": [
    "Explanation of non-obvious terms\n",
    "\n",
    "__Figure__ - This is the sheet of paper all of your graphing sits on. \n",
    "\n",
    "__Axis__ - An axis is an individual plot. You can have multiple axes on one figure\n",
    "\n",
    "__Major/Minor Ticks__ - The large and small dashes on the x and y axis\n",
    "\n",
    "__Markers__ - In a scatter plot each of the points is refered to as a marker\n",
    "\n",
    "__Spines__ - The lines that bound each axis"
   ]
  },
  {
   "cell_type": "markdown",
   "metadata": {},
   "source": [
    "# Common Charts and Their Uses"
   ]
  },
  {
   "cell_type": "markdown",
   "metadata": {},
   "source": [
    "# Scatter Plots\n",
    "\n",
    "Scatter plots are also very common.  They allow one to visualize the relationship of two variables. \n",
    "\n",
    "In the plots below, we see different correlations between variables:\n",
    "\n"
   ]
  },
  {
   "cell_type": "code",
   "execution_count": 8,
   "metadata": {},
   "outputs": [],
   "source": [
    "from sklearn.datasets import load_boston\n",
    "boston = load_boston()\n",
    "boston_df = pd.DataFrame(boston['data'])\n",
    "boston_df.columns = boston['feature_names']"
   ]
  },
  {
   "cell_type": "markdown",
   "metadata": {},
   "source": [
    "# The graph below is missing a title and labels.  \n",
    "Let's work together to add labels using the methods reference in the link below.  \n",
    "Reference [this link](https://python-graph-gallery.com/4-add-title-and-axis-label/)"
   ]
  },
  {
   "cell_type": "code",
   "execution_count": 9,
   "metadata": {},
   "outputs": [
    {
     "data": {
      "image/png": "[encoded data removed]",
      "text/plain": [
       "<Figure size 432x288 with 1 Axes>"
      ]
     },
     "metadata": {
      "needs_background": "light"
     },
     "output_type": "display_data"
    }
   ],
   "source": [
    "plt.scatter(boston_df.RM, boston_df.LSTAT, c='red')\n",
    "x_label = 'Rooms'\n",
    "y_label = 'LSTAT'\n",
    "title = 'Negative Correlation btwn Rooms and LSTAT in Boston'\n",
    "\n",
    "plt.tight_layout()"
   ]
  },
  {
   "cell_type": "markdown",
   "metadata": {},
   "source": [
    "We can also change [color](https://matplotlib.org/3.1.0/gallery/color/named_colors.html), opacity, marker size, and [marker symbol](https://matplotlib.org/3.2.1/api/markers_api.html).  \n",
    "Below, we have a list of parameters with incorrect values.  Place the values into the correct parameters to create a scatter plot of the correlation between \"rooms\" and \"% lower status of the population\" with large blue triangles."
   ]
  },
  {
   "cell_type": "code",
   "execution_count": 11,
   "metadata": {},
   "outputs": [
    {
     "ename": "TypeError",
     "evalue": "scatter() missing 2 required positional arguments: 'x' and 'y'",
     "output_type": "error",
     "traceback": [
      "\u001b[0;31m---------------------------------------------------------------------------\u001b[0m",
      "\u001b[0;31mTypeError\u001b[0m                                 Traceback (most recent call last)",
      "\u001b[0;32m<ipython-input-11-fad0653f7907>\u001b[0m in \u001b[0;36m<module>\u001b[0;34m\u001b[0m\n\u001b[0;32m----> 1\u001b[0;31m \u001b[0mplt\u001b[0m\u001b[0;34m.\u001b[0m\u001b[0mscatter\u001b[0m\u001b[0;34m(\u001b[0m\u001b[0;34m)\u001b[0m\u001b[0;34m\u001b[0m\u001b[0;34m\u001b[0m\u001b[0m\n\u001b[0m\u001b[1;32m      2\u001b[0m \u001b[0mc\u001b[0m \u001b[0;34m=\u001b[0m \u001b[0mboston_df\u001b[0m\u001b[0;34m.\u001b[0m\u001b[0mRM\u001b[0m\u001b[0;34m\u001b[0m\u001b[0;34m\u001b[0m\u001b[0m\n\u001b[1;32m      3\u001b[0m \u001b[0mmarker\u001b[0m \u001b[0;34m=\u001b[0m \u001b[0;36m100\u001b[0m\u001b[0;34m\u001b[0m\u001b[0;34m\u001b[0m\u001b[0m\n\u001b[1;32m      4\u001b[0m \u001b[0mx\u001b[0m\u001b[0;34m=\u001b[0m\u001b[0;36m.5\u001b[0m\u001b[0;34m\u001b[0m\u001b[0;34m\u001b[0m\u001b[0m\n\u001b[1;32m      5\u001b[0m \u001b[0malpha\u001b[0m \u001b[0;34m=\u001b[0m \u001b[0;34m'blue'\u001b[0m\u001b[0;34m\u001b[0m\u001b[0;34m\u001b[0m\u001b[0m\n",
      "\u001b[0;31mTypeError\u001b[0m: scatter() missing 2 required positional arguments: 'x' and 'y'"
     ]
    }
   ],
   "source": [
    "plt.scatter()\n",
    "c = boston_df.RM \n",
    "marker = 100\n",
    "x=.5 \n",
    "alpha = 'blue' \n",
    "marker='pink' \n",
    "y='^'\n",
    "s=boston_df.LSTAT "
   ]
  },
  {
   "cell_type": "markdown",
   "metadata": {},
   "source": [
    "## Line Plot\n",
    "\n",
    "Tracks the change of a single variable over time.  They are generally better than bar graphs over shorter periods of time.\n",
    "\n",
    "Here is some code to read in some well worn shampoo sales data over a three year period."
   ]
  },
  {
   "cell_type": "code",
   "execution_count": 13,
   "metadata": {},
   "outputs": [
    {
     "data": {
      "text/html": [
       "<div>\n",
       "<style scoped>\n",
       "    .dataframe tbody tr th:only-of-type {\n",
       "        vertical-align: middle;\n",
       "    }\n",
       "\n",
       "    .dataframe tbody tr th {\n",
       "        vertical-align: top;\n",
       "    }\n",
       "\n",
       "    .dataframe thead th {\n",
       "        text-align: right;\n",
       "    }\n",
       "</style>\n",
       "<table border=\"1\" class=\"dataframe\">\n",
       "  <thead>\n",
       "    <tr style=\"text-align: right;\">\n",
       "      <th></th>\n",
       "      <th>Month</th>\n",
       "      <th>Sales of shampoo over a three year period</th>\n",
       "    </tr>\n",
       "  </thead>\n",
       "  <tbody>\n",
       "    <tr>\n",
       "      <th>0</th>\n",
       "      <td>1-01</td>\n",
       "      <td>266.0</td>\n",
       "    </tr>\n",
       "    <tr>\n",
       "      <th>1</th>\n",
       "      <td>1-02</td>\n",
       "      <td>145.9</td>\n",
       "    </tr>\n",
       "    <tr>\n",
       "      <th>2</th>\n",
       "      <td>1-03</td>\n",
       "      <td>183.1</td>\n",
       "    </tr>\n",
       "    <tr>\n",
       "      <th>3</th>\n",
       "      <td>1-04</td>\n",
       "      <td>119.3</td>\n",
       "    </tr>\n",
       "    <tr>\n",
       "      <th>4</th>\n",
       "      <td>1-05</td>\n",
       "      <td>180.3</td>\n",
       "    </tr>\n",
       "    <tr>\n",
       "      <th>5</th>\n",
       "      <td>1-06</td>\n",
       "      <td>168.5</td>\n",
       "    </tr>\n",
       "    <tr>\n",
       "      <th>6</th>\n",
       "      <td>1-07</td>\n",
       "      <td>231.8</td>\n",
       "    </tr>\n",
       "    <tr>\n",
       "      <th>7</th>\n",
       "      <td>1-08</td>\n",
       "      <td>224.5</td>\n",
       "    </tr>\n",
       "    <tr>\n",
       "      <th>8</th>\n",
       "      <td>1-09</td>\n",
       "      <td>192.8</td>\n",
       "    </tr>\n",
       "    <tr>\n",
       "      <th>9</th>\n",
       "      <td>1-10</td>\n",
       "      <td>122.9</td>\n",
       "    </tr>\n",
       "    <tr>\n",
       "      <th>10</th>\n",
       "      <td>1-11</td>\n",
       "      <td>336.5</td>\n",
       "    </tr>\n",
       "    <tr>\n",
       "      <th>11</th>\n",
       "      <td>1-12</td>\n",
       "      <td>185.9</td>\n",
       "    </tr>\n",
       "    <tr>\n",
       "      <th>12</th>\n",
       "      <td>2-01</td>\n",
       "      <td>194.3</td>\n",
       "    </tr>\n",
       "    <tr>\n",
       "      <th>13</th>\n",
       "      <td>2-02</td>\n",
       "      <td>149.5</td>\n",
       "    </tr>\n",
       "    <tr>\n",
       "      <th>14</th>\n",
       "      <td>2-03</td>\n",
       "      <td>210.1</td>\n",
       "    </tr>\n",
       "    <tr>\n",
       "      <th>15</th>\n",
       "      <td>2-04</td>\n",
       "      <td>273.3</td>\n",
       "    </tr>\n",
       "    <tr>\n",
       "      <th>16</th>\n",
       "      <td>2-05</td>\n",
       "      <td>191.4</td>\n",
       "    </tr>\n",
       "    <tr>\n",
       "      <th>17</th>\n",
       "      <td>2-06</td>\n",
       "      <td>287.0</td>\n",
       "    </tr>\n",
       "    <tr>\n",
       "      <th>18</th>\n",
       "      <td>2-07</td>\n",
       "      <td>226.0</td>\n",
       "    </tr>\n",
       "    <tr>\n",
       "      <th>19</th>\n",
       "      <td>2-08</td>\n",
       "      <td>303.6</td>\n",
       "    </tr>\n",
       "    <tr>\n",
       "      <th>20</th>\n",
       "      <td>2-09</td>\n",
       "      <td>289.9</td>\n",
       "    </tr>\n",
       "    <tr>\n",
       "      <th>21</th>\n",
       "      <td>2-10</td>\n",
       "      <td>421.6</td>\n",
       "    </tr>\n",
       "    <tr>\n",
       "      <th>22</th>\n",
       "      <td>2-11</td>\n",
       "      <td>264.5</td>\n",
       "    </tr>\n",
       "    <tr>\n",
       "      <th>23</th>\n",
       "      <td>2-12</td>\n",
       "      <td>342.3</td>\n",
       "    </tr>\n",
       "    <tr>\n",
       "      <th>24</th>\n",
       "      <td>3-01</td>\n",
       "      <td>339.7</td>\n",
       "    </tr>\n",
       "    <tr>\n",
       "      <th>25</th>\n",
       "      <td>3-02</td>\n",
       "      <td>440.4</td>\n",
       "    </tr>\n",
       "    <tr>\n",
       "      <th>26</th>\n",
       "      <td>3-03</td>\n",
       "      <td>315.9</td>\n",
       "    </tr>\n",
       "    <tr>\n",
       "      <th>27</th>\n",
       "      <td>3-04</td>\n",
       "      <td>439.3</td>\n",
       "    </tr>\n",
       "    <tr>\n",
       "      <th>28</th>\n",
       "      <td>3-05</td>\n",
       "      <td>401.3</td>\n",
       "    </tr>\n",
       "    <tr>\n",
       "      <th>29</th>\n",
       "      <td>3-06</td>\n",
       "      <td>437.4</td>\n",
       "    </tr>\n",
       "    <tr>\n",
       "      <th>30</th>\n",
       "      <td>3-07</td>\n",
       "      <td>575.5</td>\n",
       "    </tr>\n",
       "    <tr>\n",
       "      <th>31</th>\n",
       "      <td>3-08</td>\n",
       "      <td>407.6</td>\n",
       "    </tr>\n",
       "    <tr>\n",
       "      <th>32</th>\n",
       "      <td>3-09</td>\n",
       "      <td>682.0</td>\n",
       "    </tr>\n",
       "    <tr>\n",
       "      <th>33</th>\n",
       "      <td>3-10</td>\n",
       "      <td>475.3</td>\n",
       "    </tr>\n",
       "    <tr>\n",
       "      <th>34</th>\n",
       "      <td>3-11</td>\n",
       "      <td>581.3</td>\n",
       "    </tr>\n",
       "    <tr>\n",
       "      <th>35</th>\n",
       "      <td>3-12</td>\n",
       "      <td>646.9</td>\n",
       "    </tr>\n",
       "  </tbody>\n",
       "</table>\n",
       "</div>"
      ],
      "text/plain": [
       "   Month  Sales of shampoo over a three year period\n",
       "0   1-01                                      266.0\n",
       "1   1-02                                      145.9\n",
       "2   1-03                                      183.1\n",
       "3   1-04                                      119.3\n",
       "4   1-05                                      180.3\n",
       "5   1-06                                      168.5\n",
       "6   1-07                                      231.8\n",
       "7   1-08                                      224.5\n",
       "8   1-09                                      192.8\n",
       "9   1-10                                      122.9\n",
       "10  1-11                                      336.5\n",
       "11  1-12                                      185.9\n",
       "12  2-01                                      194.3\n",
       "13  2-02                                      149.5\n",
       "14  2-03                                      210.1\n",
       "15  2-04                                      273.3\n",
       "16  2-05                                      191.4\n",
       "17  2-06                                      287.0\n",
       "18  2-07                                      226.0\n",
       "19  2-08                                      303.6\n",
       "20  2-09                                      289.9\n",
       "21  2-10                                      421.6\n",
       "22  2-11                                      264.5\n",
       "23  2-12                                      342.3\n",
       "24  3-01                                      339.7\n",
       "25  3-02                                      440.4\n",
       "26  3-03                                      315.9\n",
       "27  3-04                                      439.3\n",
       "28  3-05                                      401.3\n",
       "29  3-06                                      437.4\n",
       "30  3-07                                      575.5\n",
       "31  3-08                                      407.6\n",
       "32  3-09                                      682.0\n",
       "33  3-10                                      475.3\n",
       "34  3-11                                      581.3\n",
       "35  3-12                                      646.9"
      ]
     },
     "execution_count": 13,
     "metadata": {},
     "output_type": "execute_result"
    }
   ],
   "source": [
    "import pandas as pd\n",
    "import matplotlib.pyplot as plt\n",
    "\n",
    "shampoo = pd.read_csv('data/sales-of-shampoo-over-a-three-ye.csv')[:-1]\n",
    "\n",
    "\n",
    "shampoo"
   ]
  },
  {
   "cell_type": "code",
   "execution_count": 14,
   "metadata": {},
   "outputs": [
    {
     "data": {
      "text/plain": [
       "Text(0, 0.5, 'Total Sales')"
      ]
     },
     "execution_count": 14,
     "metadata": {},
     "output_type": "execute_result"
    },
    {
     "data": {
      "image/png": "[encoded data removed]",
      "text/plain": [
       "<Figure size 432x288 with 1 Axes>"
      ]
     },
     "metadata": {
      "needs_background": "light"
     },
     "output_type": "display_data"
    }
   ],
   "source": [
    "plt.plot(shampoo.Month, shampoo.iloc[:,1], color='g')\n",
    "plt.title('Shampoo Sales Across 3 Years')\n",
    "plt.xlabel('Year')\n",
    "plt.ylabel('Total Sales')"
   ]
  },
  {
   "cell_type": "markdown",
   "metadata": {},
   "source": [
    "## The xticks are illegible in the plot above.\n",
    "\n"
   ]
  },
  {
   "cell_type": "markdown",
   "metadata": {},
   "source": [
    "One way to combat that is to try rotating the ticks.  \n",
    "Use [this documentation](https://matplotlib.org/3.1.1/gallery/ticks_and_spines/ticklabels_rotation.html) to learn how to rotate.\n",
    "\n",
    "While you're at it, change the [linestyle](https://matplotlib.org/3.1.0/gallery/lines_bars_and_markers/linestyles.html)."
   ]
  },
  {
   "cell_type": "code",
   "execution_count": 15,
   "metadata": {},
   "outputs": [
    {
     "data": {
      "text/plain": [
       "Text(0, 0.5, 'Total Sales')"
      ]
     },
     "execution_count": 15,
     "metadata": {},
     "output_type": "execute_result"
    },
    {
     "data": {
      "image/png": "[encoded data removed]",
      "text/plain": [
       "<Figure size 432x288 with 1 Axes>"
      ]
     },
     "metadata": {
      "needs_background": "light"
     },
     "output_type": "display_data"
    }
   ],
   "source": [
    "# Update the code below to rotate the xticks\n",
    "plt.plot(shampoo.Month, shampoo.iloc[:,1], color='g')\n",
    "plt.title('Shampoo Sales Across 3 Years')\n",
    "plt.xlabel('Year')\n",
    "plt.ylabel('Total Sales')\n"
   ]
  },
  {
   "cell_type": "markdown",
   "metadata": {},
   "source": [
    "# Pair Programming\n",
    "Now, in groups of 2, see if you can do better. Look into the xticks documentation further. Try to reduce the number of ticks to increase visability"
   ]
  },
  {
   "cell_type": "code",
   "execution_count": null,
   "metadata": {},
   "outputs": [],
   "source": [
    "# Your code here"
   ]
  },
  {
   "cell_type": "markdown",
   "metadata": {},
   "source": [
    "## Bar charts\n",
    "\n",
    "Bar charts are everywhere: powerpoints, billboards and the evening news. They are used to show the relationship of a numerical and a categorical variable.\n",
    "\n",
    "For example, a bar chart can show the growth of a single categorical variable across time.\n",
    "\n"
   ]
  },
  {
   "cell_type": "code",
   "execution_count": 22,
   "metadata": {
    "collapsed": true,
    "jupyter": {
     "outputs_hidden": true
    }
   },
   "outputs": [
    {
     "data": {
      "text/html": [
       "<div>\n",
       "<style scoped>\n",
       "    .dataframe tbody tr th:only-of-type {\n",
       "        vertical-align: middle;\n",
       "    }\n",
       "\n",
       "    .dataframe tbody tr th {\n",
       "        vertical-align: top;\n",
       "    }\n",
       "\n",
       "    .dataframe thead th {\n",
       "        text-align: right;\n",
       "    }\n",
       "</style>\n",
       "<table border=\"1\" class=\"dataframe\">\n",
       "  <thead>\n",
       "    <tr style=\"text-align: right;\">\n",
       "      <th></th>\n",
       "      <th>Sales of shampoo over a three year period</th>\n",
       "    </tr>\n",
       "    <tr>\n",
       "      <th>month</th>\n",
       "      <th></th>\n",
       "    </tr>\n",
       "  </thead>\n",
       "  <tbody>\n",
       "    <tr>\n",
       "      <th>01</th>\n",
       "      <td>800.0</td>\n",
       "    </tr>\n",
       "    <tr>\n",
       "      <th>02</th>\n",
       "      <td>735.8</td>\n",
       "    </tr>\n",
       "    <tr>\n",
       "      <th>03</th>\n",
       "      <td>709.1</td>\n",
       "    </tr>\n",
       "    <tr>\n",
       "      <th>04</th>\n",
       "      <td>831.9</td>\n",
       "    </tr>\n",
       "    <tr>\n",
       "      <th>05</th>\n",
       "      <td>773.0</td>\n",
       "    </tr>\n",
       "    <tr>\n",
       "      <th>06</th>\n",
       "      <td>892.9</td>\n",
       "    </tr>\n",
       "    <tr>\n",
       "      <th>07</th>\n",
       "      <td>1033.3</td>\n",
       "    </tr>\n",
       "    <tr>\n",
       "      <th>08</th>\n",
       "      <td>935.7</td>\n",
       "    </tr>\n",
       "    <tr>\n",
       "      <th>09</th>\n",
       "      <td>1164.7</td>\n",
       "    </tr>\n",
       "    <tr>\n",
       "      <th>10</th>\n",
       "      <td>1019.8</td>\n",
       "    </tr>\n",
       "    <tr>\n",
       "      <th>11</th>\n",
       "      <td>1182.3</td>\n",
       "    </tr>\n",
       "    <tr>\n",
       "      <th>12</th>\n",
       "      <td>1175.1</td>\n",
       "    </tr>\n",
       "  </tbody>\n",
       "</table>\n",
       "</div>"
      ],
      "text/plain": [
       "       Sales of shampoo over a three year period\n",
       "month                                           \n",
       "01                                         800.0\n",
       "02                                         735.8\n",
       "03                                         709.1\n",
       "04                                         831.9\n",
       "05                                         773.0\n",
       "06                                         892.9\n",
       "07                                        1033.3\n",
       "08                                         935.7\n",
       "09                                        1164.7\n",
       "10                                        1019.8\n",
       "11                                        1182.3\n",
       "12                                        1175.1"
      ]
     },
     "execution_count": 22,
     "metadata": {},
     "output_type": "execute_result"
    }
   ],
   "source": [
    "# Year and months are in an odd format in this shampoo dataset.  \n",
    "# Use custom functions to extract data\n",
    "\n",
    "def get_year(date):\n",
    "    return date[0]\n",
    "\n",
    "shampoo['year'] = shampoo['Month'].apply(get_year)\n",
    "total_sales_per_year = shampoo.groupby('year').sum()[:-1]\n",
    "\n",
    "def get_month(date):\n",
    "    return date[2:]\n",
    "\n",
    "shampoo['month'] = shampoo['Month'].apply(get_month)\n",
    "total_sales_per_month = shampoo.groupby('month').sum().sort_values(by='month')\n",
    "months = ['January', 'February', 'March', 'April', \n",
    "         'May', 'June', 'July', 'August', 'September', \n",
    "         'October', 'November', 'December']\n",
    "total_sales_per_month"
   ]
  },
  {
   "cell_type": "code",
   "execution_count": 23,
   "metadata": {},
   "outputs": [
    {
     "data": {
      "image/png": "[encoded data removed]",
      "text/plain": [
       "<Figure size 432x288 with 1 Axes>"
      ]
     },
     "metadata": {
      "needs_background": "light"
     },
     "output_type": "display_data"
    }
   ],
   "source": [
    "plt.bar(x = list(total_sales_per_month.index), height=total_sales_per_month.values.flatten())\n",
    "plt.xticks(ticks = range(0,12), labels=months)\n",
    "plt.xticks(rotation=45)\n",
    "plt.title('Total shampoo sales per month')\n",
    "plt.xlabel('Total Sales')\n",
    "plt.ylabel('Month')\n",
    "plt.tight_layout()"
   ]
  },
  {
   "cell_type": "markdown",
   "metadata": {},
   "source": [
    "The plot about is small. Adjust the figure size to make it bigger.\n",
    "Look at [this link](https://stackoverflow.com/questions/332289/how-do-you-change-the-size-of-figures-drawn-with-matplotlib)"
   ]
  },
  {
   "cell_type": "code",
   "execution_count": null,
   "metadata": {},
   "outputs": [],
   "source": [
    "# Your code here"
   ]
  },
  {
   "cell_type": "code",
   "execution_count": 25,
   "metadata": {},
   "outputs": [
    {
     "data": {
      "image/png": "[encoded data removed]",
      "text/plain": [
       "<Figure size 432x288 with 1 Axes>"
      ]
     },
     "metadata": {
      "needs_background": "light"
     },
     "output_type": "display_data"
    }
   ],
   "source": [
    "# With barplots, we can also interact with indiividual rectangles.\n",
    "\n",
    "rectangles = plt.bar(x = list(total_sales_per_month.index), height=total_sales_per_month.values.flatten())\n",
    "plt.xticks(ticks = range(0,12), labels=months)\n",
    "plt.xticks(rotation=45)\n",
    "plt.title('Total shampoo sales per month')\n",
    "plt.xlabel('Total Sales')\n",
    "plt.ylabel('Month')\n",
    "plt.tight_layout()\n",
    "rectangles[2].set_color('r')"
   ]
  },
  {
   "cell_type": "markdown",
   "metadata": {},
   "source": [
    "## Histograms"
   ]
  },
  {
   "cell_type": "markdown",
   "metadata": {},
   "source": [
    "We will get get further into histograms in mod 2, but it is good to get familiar with them sooner rather than later. \n",
    "\n",
    "Histograms create uniform bins across the entire range of a continuous variable. They then count the number of data points which fall into each bin.  \n",
    "\n",
    "Histograms are often confused with bar charts, since they look somewhat similar.  The big difference, however, is that histograms visualize the distribution of a continuous variable, rather than the discrete variable shown by barcharts. You can remember this because the bins of histograms don't have spaces between them.\n",
    "\n"
   ]
  },
  {
   "cell_type": "markdown",
   "metadata": {},
   "source": [
    "![histogram_ex](images/histogram_example.svg)"
   ]
  },
  {
   "cell_type": "code",
   "execution_count": 26,
   "metadata": {},
   "outputs": [
    {
     "data": {
      "image/png": "[encoded data removed]",
      "text/plain": [
       "<Figure size 432x288 with 1 Axes>"
      ]
     },
     "metadata": {
      "needs_background": "light"
     },
     "output_type": "display_data"
    }
   ],
   "source": [
    "# Here is a histogram of sales prices from the Boston Housing Dataset\n",
    "from sklearn.datasets import load_boston\n",
    "boston = load_boston()\n",
    "sales_price = boston['target']\n",
    "\n",
    "fig, ax = plt.subplots()\n",
    "ax.hist(sales_price)\n",
    "ax.set_xlabel('House Price ($1000s)');\n",
    "ax.set_ylabel('Count')\n",
    "ax.set_title('Distribution of Boston House Prices');"
   ]
  },
  {
   "cell_type": "markdown",
   "metadata": {},
   "source": [
    "## Plotting Syntax\n",
    "\n",
    "- There are many different ways to create plots but we will strongly suggest using the subplots method\n",
    "    - This is useful for extensibility \n",
    "    - Gives you access to the figure and individual axis in a plot\n",
    "    - More fine grained control of customizing your plot\n",
    "    - Easily create additional axis on your figure\n",
    "    - This syntax is a good level of abstraction\n",
    "        - You can go deeper into the api but this should give you immediate access to most tools you will need for whatever plot you are making\n",
    "    - Flatiron Specifc\n",
    "        - Plotting code will be more easily readable for other students and instructors\n",
    "        - You don’t need to remember many different ways to organize your code"
   ]
  },
  {
   "cell_type": "markdown",
   "metadata": {},
   "source": [
    "Here are links to the [matplotlib documentation](https://matplotlib.org/index.html) as well as the [Axes object documentation](https://matplotlib.org/api/axes_api.html):\n",
    "\n",
    "We will now walk through some common charts and their uses, while practicing our matplotlib syntax"
   ]
  },
  {
   "cell_type": "markdown",
   "metadata": {},
   "source": [
    "## Box Plots\n",
    "\n",
    "Box plots (or box-and-whisker plots), like histograms, show the distribution of a continous variable.  They have a median line, where half the data falls above, half below.  The box represents the interquartile range, and the whiskers encompass (most often) 95% of the data. We can detect skew from a boxplot, and it is also a quick way to see detect outliers.\n",
    "\n",
    "Again, we will get further into boxplots in mod 2."
   ]
  },
  {
   "cell_type": "markdown",
   "metadata": {},
   "source": [
    "![boxplot](images/boxplot.png)"
   ]
  },
  {
   "cell_type": "markdown",
   "metadata": {},
   "source": [
    "We want to display the boxplot and the histogram of the boston housing sales prices side by side.  \n",
    "To do so, we will us the plt.subplots() convention.  \n",
    "\n",
    "The cell below is missing the appropriate ax and fig variables, so it will not run.  \n",
    "\n",
    "In groups of two, add in the appropriate variables to make the cell function."
   ]
  },
  {
   "cell_type": "code",
   "execution_count": null,
   "metadata": {},
   "outputs": [],
   "source": [
    "\n",
    "fig, () = plt.subplots(1,2)\n",
    "set_figheight(7)\n",
    "set_figwidth(10)\n",
    "\n",
    "boxplot(sales_price)\n",
    "set_xlabel('House Price ($1000s)');\n",
    "set_ylabel('Count')\n",
    "set_title('Many Outliers in Boston House Prices')\n",
    "\n",
    "hist(sales_price)\n",
    "set_ylabel('Count')\n",
    "set_title('Distribution of Boston House Prices')\n",
    "\n",
    "plt.tight_layout()\n",
    ";"
   ]
  },
  {
   "cell_type": "markdown",
   "metadata": {},
   "source": [
    "## Pie Charts\n",
    "Love em or hate em, you'll no doubt see em.\n",
    "One spend much time on them, but know you can use matplotlib to plot them.\n",
    "They show relative sizes of subgroups of our data."
   ]
  },
  {
   "cell_type": "code",
   "execution_count": null,
   "metadata": {},
   "outputs": [],
   "source": [
    "fig, ax = plt.subplots()\n",
    "ax.pie(df_iris['target'].value_counts(), labels = list(data['target_names']), autopct='%1.0f%%');\n",
    "\n",
    "ax.set_title('Target Distribution of Iris Dataset')\n",
    "plt.tight_layout()\n"
   ]
  },
  {
   "cell_type": "markdown",
   "metadata": {},
   "source": [
    "## Layering\n",
    "\n",
    "![cake](https://media.giphy.com/media/XMgCFjsCSARxK/giphy.gif)"
   ]
  },
  {
   "cell_type": "markdown",
   "metadata": {},
   "source": [
    "If we want to add multiple plots on one axis, we can simply call the plotting functions one after the other. "
   ]
  },
  {
   "cell_type": "code",
   "execution_count": null,
   "metadata": {},
   "outputs": [],
   "source": [
    "fig, ax = plt.subplots()\n",
    "for group in shampoo.groupby('year').groups:\n",
    "    x = shampoo.groupby('year').get_group(group)\n",
    "    ax.plot(x.month, x.iloc[:,1], )\n",
    "    \n",
    "ax.set_title('Lineplot of Shampoo Sales\\n Over Three Years')\n",
    "ax.legend(['year_1', 'year_2', 'year_3'])\n",
    "ax.set_xlabel('Month')\n",
    "ax.set_ylabel('Shampoo Sales')"
   ]
  },
  {
   "cell_type": "markdown",
   "metadata": {},
   "source": [
    "### Quick note: style sheets are cool\n",
    "\n",
    "Find another style from the Docs and set the style. Once you've set the style try rerunning older graphs:\n",
    "\n",
    "[Style Sheets](https://matplotlib.org/3.1.1/gallery/style_sheets/style_sheets_reference.html)"
   ]
  },
  {
   "cell_type": "code",
   "execution_count": null,
   "metadata": {},
   "outputs": [],
   "source": [
    "style = 'fivethirtyeight'\n",
    "plt.style.use(style)"
   ]
  },
  {
   "cell_type": "markdown",
   "metadata": {},
   "source": [
    "## Saving your figures"
   ]
  },
  {
   "cell_type": "markdown",
   "metadata": {},
   "source": [
    "Let's split the shampoo sales into years, and plot three line plots, one on top of the other"
   ]
  },
  {
   "cell_type": "code",
   "execution_count": null,
   "metadata": {},
   "outputs": [],
   "source": [
    "fig, ax = plt.subplots()\n",
    "for group in shampoo.groupby('year').groups:\n",
    "    x = shampoo.groupby('year').get_group(group)\n",
    "    ax.plot(x.month, x.iloc[:,1], )\n",
    "    \n",
    "ax.legend(['year_1', 'year_2', 'year_3'])\n",
    "ax.set_xlabel('Month')\n",
    "ax.set_ylabel('Shampoo Sales')\n",
    "\n",
    "# plt.savefig('path_to_figure_folder/.svg')"
   ]
  }
 ],
 "metadata": {
  "kernelspec": {
   "display_name": "Python 3",
   "language": "python",
   "name": "python3"
  },
  "language_info": {
   "codemirror_mode": {
    "name": "ipython",
    "version": 3
   },
   "file_extension": ".py",
   "mimetype": "text/x-python",
   "name": "python",
   "nbconvert_exporter": "python",
   "pygments_lexer": "ipython3",
   "version": "3.7.3"
  }
 },
 "nbformat": 4,
 "nbformat_minor": 4
}
